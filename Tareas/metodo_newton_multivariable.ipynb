{
 "cells": [
  {
   "cell_type": "markdown",
   "metadata": {},
   "source": [
    "### Breviario Cultural \n",
    "\n",
    "$$\n",
    "(f'(x_0),-1)\\bullet(x-x_0,y-y_0)=0\n",
    "$$\n",
    "\n",
    "$$\n",
    "(f'(x_0),-1)\\bullet(\\vec{r}-\\vec{r_0})=0\n",
    "$$\n",
    "\n",
    "Reescribiendo:\n",
    "\n",
    "$$\n",
    "(y'(x_0),-x')\\bullet(\\vec{r}-\\vec{r_0})=0\n",
    "$$\n",
    "\n",
    "Factorizando el operador derivada:\n",
    "\n",
    "$$\n",
    "\\frac{d}{dx}(x,y(x))_{x_0}^{\\text{ortogonal a }x_0} \\bullet (\\vec{r}-\\vec{r_0})=0\n",
    "$$\n",
    "\n",
    "### Método de Newton en dos dimensiones\n",
    "\n",
    "Recordemos que el método de newton en una dimensión es:\n",
    "\n",
    "$$\n",
    "x_{n+1} = x_n + f'(x_n)x_n\n",
    "$$\n",
    "\n",
    "En dos dimensiones esperaríamos algo similar:\n",
    "\n",
    "$$\n",
    "\\vec{r_{n+1}} = \\vec{r_n} + \\text{Jac}(\\vec{r_n})\\vec{r_n}\n",
    "$$\n",
    "\n",
    "Donde el vector $\\vec{r_n}$ tiene como coordenadas: $(x_n,y_n,z_n,...)$"
   ]
  },
  {
   "cell_type": "code",
   "execution_count": null,
   "metadata": {
    "collapsed": true
   },
   "outputs": [],
   "source": []
  },
  {
   "cell_type": "code",
   "execution_count": null,
   "metadata": {
    "collapsed": true
   },
   "outputs": [],
   "source": []
  }
 ],
 "metadata": {
  "kernelspec": {
   "display_name": "Python 2",
   "language": "python",
   "name": "python2"
  },
  "language_info": {
   "codemirror_mode": {
    "name": "ipython",
    "version": 2
   },
   "file_extension": ".py",
   "mimetype": "text/x-python",
   "name": "python",
   "nbconvert_exporter": "python",
   "pygments_lexer": "ipython2",
   "version": "2.7.6"
  }
 },
 "nbformat": 4,
 "nbformat_minor": 0
}
