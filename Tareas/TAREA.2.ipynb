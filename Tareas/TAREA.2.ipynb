{
 "cells": [
  {
   "cell_type": "markdown",
   "metadata": {},
   "source": [
    "# Ejercicio 1"
   ]
  },
  {
   "cell_type": "markdown",
   "metadata": {},
   "source": [
    "Realice un programa que encuentre todas las raíces de una función en un intervalo cerrado bajo la suposición de que la función realiza oscilaciones y entre cada oscilación hay al menos una raíz. Ponga en práctica esta función y encuentre todas las raíces de la siguiente función en el intervalo $(0,2\\pi)$:\n",
    "\n",
    "$$\n",
    "y(x)=\\cos x+\\frac{6}{5}\\sin x^2\n",
    "$$"
   ]
  },
  {
   "cell_type": "code",
   "execution_count": 5,
   "metadata": {
    "collapsed": true
   },
   "outputs": [],
   "source": [
    "from numpy import*\n",
    "from pylab import*\n",
    "%matplotlib inline "
   ]
  },
  {
   "cell_type": "code",
   "execution_count": 125,
   "metadata": {
    "collapsed": false
   },
   "outputs": [],
   "source": [
    "def particion(f,inicio,final,h):\n",
    "    x=arange(inicio,final+h,h)\n",
    "    y=[x[0]]\n",
    "    for i in xrange(len(x)-1):\n",
    "        if f(x[i])*f(x[i+1]) <= 0:\n",
    "            y=y+[x[i+1]]\n",
    "        elif f(x[i])*f(x[i+1]) > 0:\n",
    "            y=y\n",
    "    return y"
   ]
  },
  {
   "cell_type": "code",
   "execution_count": 126,
   "metadata": {
    "collapsed": true
   },
   "outputs": [],
   "source": [
    "def biparticion(f,x_i,x_d,err=1e-5):\n",
    "    raiz=0.5*(x_i+x_d)\n",
    "    y_i,y_d=f(x_i),f(x_d)\n",
    "    while abs(raiz-x_d) >=err and abs(y_i-y_d)>=err:\n",
    "        y_m=f(raiz)\n",
    "        if y_m == 0.:\n",
    "            break\n",
    "        if y_m*y_i < 0:\n",
    "            x_d=raiz\n",
    "        else:\n",
    "            return x_d\n",
    "    return raiz"
   ]
  },
  {
   "cell_type": "code",
   "execution_count": 127,
   "metadata": {
    "collapsed": true
   },
   "outputs": [],
   "source": [
    "def bi(f,x,h,err=1e-5):\n",
    "    y=particion(f,x[0],x[1],h)\n",
    "    raices=[]\n",
    "    for i in range(len(y)-1):\n",
    "        r = biparticion(f,y[i],y[i+1],err=1e-5)\n",
    "        raices.append(r)\n",
    "        if r > x[1]:\n",
    "            break\n",
    "    return raices"
   ]
  },
  {
   "cell_type": "markdown",
   "metadata": {},
   "source": [
    "Para probar que funcione bi:"
   ]
  },
  {
   "cell_type": "code",
   "execution_count": 9,
   "metadata": {
    "collapsed": true
   },
   "outputs": [],
   "source": [
    "def f1(x):\n",
    "    return cos(x)+(6/5)*sin(x*x)"
   ]
  },
  {
   "cell_type": "markdown",
   "metadata": {},
   "source": [
    "Sus raices serán:"
   ]
  },
  {
   "cell_type": "code",
   "execution_count": 128,
   "metadata": {
    "collapsed": false
   },
   "outputs": [
    {
     "name": "stdout",
     "output_type": "stream",
     "text": [
      "[1.7277, 2.7277, 2.8534999999999999, 3.6868000000000003, 3.8535000000000004, 4.3798000000000004, 4.6867999999999999, 4.9860000000000007, 5.3798000000000004, 5.5315000000000003, 5.9860000000000007, 6.0316000000000001]\n"
     ]
    }
   ],
   "source": [
    "raices_f1 = bi(f1,[0,2*pi],0.0001)\n",
    "print(raices_f1)"
   ]
  },
  {
   "cell_type": "markdown",
   "metadata": {},
   "source": [
    "Entonces: la gráfica cruza a x=0 en :"
   ]
  },
  {
   "cell_type": "code",
   "execution_count": 129,
   "metadata": {
    "collapsed": false
   },
   "outputs": [
    {
     "data": {
      "image/png": "[encoded data removed]",
      "text/plain": [
       "<matplotlib.figure.Figure at 0xba5a510>"
      ]
     },
     "metadata": {},
     "output_type": "display_data"
    }
   ],
   "source": [
    "x=arange(0,2*pi+0.001,0.001)\n",
    "plot(x,cos(x)+(6/5)*sin(x*x))\n",
    "plot(x,0*x)\n",
    "for j in xrange(len(raices_f1)-1):\n",
    "    plot(raices_f1[j],0,'o')\n",
    "show()"
   ]
  },
  {
   "cell_type": "markdown",
   "metadata": {},
   "source": [
    "# Ejercicio 2"
   ]
  },
  {
   "cell_type": "markdown",
   "metadata": {},
   "source": [
    "Se tiene la siguiente función:\n",
    "\n",
    "$$\n",
    "f(x,y)=2 e^{-(x+1)^2} (e^{-(y+2)^2}+e^{-(y-2)^2}) + 6 x (x^2+y^2) \\ e^{-(x^2+y^2)} -1\n",
    "$$\n",
    "\n",
    "Encuentre los puntos $({x_o},{y_o})$ tales que $f(x_o,y_o)=(0,0)$ y dibuje los puntos en el plano"
   ]
  },
  {
   "cell_type": "code",
   "execution_count": 130,
   "metadata": {
    "collapsed": true
   },
   "outputs": [],
   "source": [
    "def particion_m(f,x,y_i,y_d,h):\n",
    "    z=arange(y_i,y_d+h,h)\n",
    "    intervalo=[z[0]]\n",
    "    for i in xrange(len(z)-1):\n",
    "        if f(x,z[i])*f(x,z[i+1]) <= 0:\n",
    "            intervalo = intervalo + [z[i+1]]\n",
    "        elif f(x,z[i])*f(x,z[i+1]) > 0:\n",
    "            intervalo = intervalo\n",
    "    return intervalo"
   ]
  },
  {
   "cell_type": "code",
   "execution_count": 153,
   "metadata": {
    "collapsed": false
   },
   "outputs": [],
   "source": [
    "def biparticion_m(f,x,y_i,y_d,err=1e-5):\n",
    "    raiz=0.5*(y_i+y_d)\n",
    "    z_i,z_d=f(x,y_i),f(x,y_d)\n",
    "    while abs(raiz-y_d) >=err and abs(z_i-z_d)>=err:\n",
    "        z_m=f(x,raiz)\n",
    "        if z_m == 0.:\n",
    "            break\n",
    "        if z_m*z_i < 0:\n",
    "            y_d=raiz\n",
    "        else:\n",
    "            return y_d\n",
    "    return raiz"
   ]
  },
  {
   "cell_type": "code",
   "execution_count": 217,
   "metadata": {
    "collapsed": false
   },
   "outputs": [],
   "source": [
    "def bi_m(f,x,y,h,err=1e-4):\n",
    "    equis=arange(x[0],x[1]+h,h)\n",
    "    raices_y = []\n",
    "    raices_x = []\n",
    "    for i in xrange(len(equis)-1):\n",
    "        yes=particion_m(f,equis[i],y[0],y[1],h)\n",
    "        for j in xrange(len(yes)-1):\n",
    "            r = biparticion_m(f,equis[i],yes[j],yes[j+1],err=1e-5)\n",
    "            raices_y.append(r)\n",
    "            #if r > y[1]:\n",
    "             #   break\n",
    "            if raices_y != []:\n",
    "                raices_x.append(raices_y)\n",
    "    return array([raices_x])"
   ]
  },
  {
   "cell_type": "code",
   "execution_count": 165,
   "metadata": {
    "collapsed": false
   },
   "outputs": [],
   "source": [
    "def f2(x,y):\n",
    "    return 2*e**(-(x+1)*(x+1))*(e**(-(y+2)*(y+2))+e**(-(y-2)*(y-2)))+6*x*(x*x+y*y)*e**(-(x*x+y*y))-1"
   ]
  },
  {
   "cell_type": "code",
   "execution_count": 218,
   "metadata": {
    "collapsed": false
   },
   "outputs": [
    {
     "name": "stdout",
     "output_type": "stream",
     "text": [
      "[[[-2.1 -2.   2.1 ...,  0.7 -0.3  0.4]\n",
      "  [-2.1 -2.   2.1 ...,  0.7 -0.3  0.4]\n",
      "  [-2.1 -2.   2.1 ...,  0.7 -0.3  0.4]\n",
      "  ..., \n",
      "  [-2.1 -2.   2.1 ...,  0.7 -0.3  0.4]\n",
      "  [-2.1 -2.   2.1 ...,  0.7 -0.3  0.4]\n",
      "  [-2.1 -2.   2.1 ...,  0.7 -0.3  0.4]]]\n"
     ]
    }
   ],
   "source": [
    "z=bi_m(f2,[-4,4],[-4,4],0.1)\n",
    "print z"
   ]
  },
  {
   "cell_type": "code",
   "execution_count": null,
   "metadata": {
    "collapsed": true
   },
   "outputs": [],
   "source": []
  },
  {
   "cell_type": "code",
   "execution_count": null,
   "metadata": {
    "collapsed": true
   },
   "outputs": [],
   "source": []
  },
  {
   "cell_type": "code",
   "execution_count": 193,
   "metadata": {
    "collapsed": false
   },
   "outputs": [
    {
     "data": {
      "image/png": "[encoded data removed]",
      "text/plain": [
       "<matplotlib.figure.Figure at 0xbd16430>"
      ]
     },
     "metadata": {},
     "output_type": "display_data"
    }
   ],
   "source": [
    "v=arange(-4,4+0.01,0.01)\n",
    "xlim([-4,4])\n",
    "ylim([-4,4])\n",
    "plot(v,f2(1,v))\n",
    "plot(v,0*v)\n",
    "show()"
   ]
  },
  {
   "cell_type": "code",
   "execution_count": null,
   "metadata": {
    "collapsed": true
   },
   "outputs": [],
   "source": []
  },
  {
   "cell_type": "code",
   "execution_count": 43,
   "metadata": {
    "collapsed": true
   },
   "outputs": [],
   "source": [
    "from mpl_toolkits.mplot3d import Axes3D\n",
    "import matplotlib.pyplot as plt"
   ]
  },
  {
   "cell_type": "code",
   "execution_count": 96,
   "metadata": {
    "collapsed": false
   },
   "outputs": [
    {
     "data": {
      "image/png": "[encoded data removed]",
      "text/plain": [
       "<matplotlib.figure.Figure at 0xabf1af0>"
      ]
     },
     "metadata": {},
     "output_type": "display_data"
    }
   ],
   "source": [
    "fig = plt.figure()\n",
    "ax = Axes3D(fig)\n",
    "\n",
    "y=arange(-4,4+0.001,0.001)\n",
    "#x=zeros(len(y))\n",
    "\n",
    "xlim([-4,4])\n",
    "ylim([-4,4])\n",
    "\n",
    "ax.plot(y,x,f2(x,y))\n",
    "#ax.plot(y,x,0)\n",
    "\n",
    "#for i in xrange(len(x)-1):\n",
    " #   ax.plot(x[i],y,f2(x[i],y))\n",
    "plt.show()"
   ]
  },
  {
   "cell_type": "code",
   "execution_count": null,
   "metadata": {
    "collapsed": true
   },
   "outputs": [],
   "source": []
  },
  {
   "cell_type": "code",
   "execution_count": 48,
   "metadata": {
    "collapsed": false
   },
   "outputs": [
    {
     "name": "stdout",
     "output_type": "stream",
     "text": [
      "[-4 -3 -2 -1  0  1  2  3  4]\n",
      "[ 0.  0.  0.  0.  0.  0.  0.  0.  0.]\n"
     ]
    }
   ],
   "source": [
    "y=arange(-4,4+1,1)\n",
    "print y\n",
    "z=zeros((9))\n",
    "print z"
   ]
  },
  {
   "cell_type": "code",
   "execution_count": null,
   "metadata": {
    "collapsed": false
   },
   "outputs": [],
   "source": [
    "t = zeros((3,4))\n",
    "print(t)\n",
    "t[1,:] = [1,2,4,5]\n",
    "print t"
   ]
  },
  {
   "cell_type": "code",
   "execution_count": null,
   "metadata": {
    "collapsed": false
   },
   "outputs": [],
   "source": [
    "a=[]\n",
    "v=[1,2,5]\n",
    "d=[8,9]\n",
    "#c=append(a,[v],axis=0)\n",
    "a.append(v)\n",
    "print a\n",
    "a.append(d)\n",
    "print a\n",
    "print a[0][1]"
   ]
  },
  {
   "cell_type": "markdown",
   "metadata": {
    "collapsed": true
   },
   "source": [
    "# Problema 3"
   ]
  },
  {
   "cell_type": "markdown",
   "metadata": {},
   "source": [
    "Se tiene una pelota de masa $m$ sobre un plano inclinado a un ángulo $\\alpha$= 15º, 30º y 45º:\n",
    "\n",
    "a) Dibuje la trayectoria de la pelota si es lanzada desde el plano inclinado con una velocidad $ v_{0x},v_{0y} > 0 $ considerando que hay fricción con el aire proporcional a la velocidad.\n",
    "\n",
    "b) Realice la misma simulación si ahora la fracción es proporcional al cuadrado de la velocidad\n",
    "\n",
    "c) ¿Qué sucede si ahora la pelota es lanzada con velocidad inicial $v_{0x} < 0 \\ $ tal que: $ \\ \\tan^{-1}  v_{0y} > \\alpha v_{0x}$\n"
   ]
  },
  {
   "cell_type": "markdown",
   "metadata": {},
   "source": [
    "En éste caso las ecuaciones para modelar una pelota rebotando sobre un plano inclinado con un ángulo $\\alpha$ son:\n",
    "\n",
    "$$\n",
    "m\\ddot{\\vec{a}} = -g \\sin(\\alpha) \\hat{j} -f g \\sin(\\alpha) \\dot{\\vec{x}}\n",
    "$$\n",
    "\n",
    "con \n",
    "$$ \n",
    "\\dot{\\vec{x}}=u \\dot{\\vec{u}}=-\\frac{g}{m} \\hat{j} -\\frac{f}{m}\\hat{u}\n",
    "$$\n",
    "\n",
    "Y proponemos como modelos de fricción:\n",
    "\n",
    "$$ \n",
    "f_1 \\varpropto \\dot{\\vec{x}} \\\\  f_2 \\varpropto \\vert\\dot{\\vec{x}}\\vert^2 \n",
    "$$\n",
    "\n",
    "Y entonces, las $f's$ serán:\n",
    "\n",
    "$$ \n",
    "f_1 = \\gamma \\ \\vert \\vec{u} \\ \\vert \\\\ f_2 = \\mu \\ \\vert\\vec{u} \\ \\vert^2\n",
    "$$"
   ]
  }
 ],
 "metadata": {
  "kernelspec": {
   "display_name": "Python 2",
   "language": "python",
   "name": "python2"
  },
  "language_info": {
   "codemirror_mode": {
    "name": "ipython",
    "version": 2
   },
   "file_extension": ".py",
   "mimetype": "text/x-python",
   "name": "python",
   "nbconvert_exporter": "python",
   "pygments_lexer": "ipython2",
   "version": "2.7.6"
  }
 },
 "nbformat": 4,
 "nbformat_minor": 0
}
