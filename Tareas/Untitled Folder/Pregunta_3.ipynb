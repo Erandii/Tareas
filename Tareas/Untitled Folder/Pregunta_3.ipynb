{
 "cells": [
  {
   "cell_type": "markdown",
   "metadata": {},
   "source": [
    "# Pregunta 3"
   ]
  },
  {
   "cell_type": "markdown",
   "metadata": {},
   "source": [
    "### Se tiene una partícula de masa m = 1 en un campo gravitacional $\\vec{g} = −9.8 \\hat{j}$ en una caja con piso en forma de v a un ángulo $\\alpha$, de lado $L=10$ m y $d=3$ m. Realice los ejercicios con valores de $\\alpha=pi/6 \\ $ y $ \\ \\alpha = pi/10$.\n"
   ]
  },
  {
   "cell_type": "markdown",
   "metadata": {},
   "source": [
    "### a)Realice una simulación con condición inicial tal que la posición inicial es sobre la rampa a un tercio de la distancia de la pared vertical izquierda y el vértice inferior de la caja, y se dispara con velocidad $\\vert \\vec{v} \\vert = 1$ hacia la derecha con ángulos $\\alpha$ sobre la horizontal $\\alpha$, $2\\alpha$ y $3\\alpha$. (Para que la simulación sea válida, la partícula debe rebotar al menos 20 veces con alguna parte de la caja)."
   ]
  },
  {
   "cell_type": "markdown",
   "metadata": {},
   "source": [
    "### b) Introduzca algún modelo de fricción y compare las trayectorias con el inciso anterior."
   ]
  },
  {
   "cell_type": "markdown",
   "metadata": {},
   "source": [
    "### c) Dibuje el espacio fase px , x y py , y cuando no hay fricción y la partícula es lanzada hacia la derecha a un ángulo $\\alpha$ y vertical hacia arriba. Tome en cuenta el número necesario de rebotes para que la simulación pueda barrer el espacio fase de manera representativa."
   ]
  }
 ],
 "metadata": {
  "kernelspec": {
   "display_name": "Python 2",
   "language": "python",
   "name": "python2"
  },
  "language_info": {
   "codemirror_mode": {
    "name": "ipython",
    "version": 2
   },
   "file_extension": ".py",
   "mimetype": "text/x-python",
   "name": "python",
   "nbconvert_exporter": "python",
   "pygments_lexer": "ipython2",
   "version": "2.7.6"
  }
 },
 "nbformat": 4,
 "nbformat_minor": 0
}
