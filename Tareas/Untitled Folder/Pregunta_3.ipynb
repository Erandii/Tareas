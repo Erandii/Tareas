{
 "cells": [
  {
   "cell_type": "markdown",
   "metadata": {},
   "source": [
    "# Pregunta 3"
   ]
  },
  {
   "cell_type": "markdown",
   "metadata": {},
   "source": [
    "### Se tiene una partícula de masa m = 1 en un campo gravitacional $\\vec{g} = −9.8 \\hat{j}$ en una caja con piso en forma de v a un ángulo $\\alpha$, de lado $L=10$ m y $d=3$ m. Realice los ejercicios con valores de $\\alpha=\\pi/6 \\ $ y $ \\ \\alpha = \\pi/10$.\n"
   ]
  },
  {
   "cell_type": "markdown",
   "metadata": {},
   "source": [
    "### a)Realice una simulación con condición inicial tal que la posición inicial es sobre la rampa a un tercio de la distancia de la pared vertical izquierda y el vértice inferior de la caja, y se dispara con velocidad $\\vert \\vec{v} \\vert = 1$ hacia la derecha con ángulos $\\alpha$ sobre la horizontal $\\alpha$, $2\\alpha$ y $3\\alpha$. (Para que la simulación sea válida, la partícula debe rebotar al menos 20 veces con alguna parte de la caja)."
   ]
  },
  {
   "cell_type": "code",
   "execution_count": 43,
   "metadata": {
    "collapsed": true
   },
   "outputs": [],
   "source": [
    "from pylab import*\n",
    "from numpy import*\n",
    "%matplotlib inline"
   ]
  },
  {
   "cell_type": "code",
   "execution_count": 115,
   "metadata": {
    "collapsed": true
   },
   "outputs": [],
   "source": [
    "def rk4(ec,p_ini,x,args=0,h=0.01):\n",
    "    #el parámetro args está evaluándose en la segunda coordenada de la ecuación diferencial\n",
    "    #éste escalar será la fricción que estamos añadiendo a la función.\n",
    "    \n",
    "    if (x[1]-x[0]) <= 5.*h:\n",
    "        h = (x[1]-x[0])/10.\n",
    "    #codigo adicional para hacer que cuando se acerque al punto \n",
    "    #de rebote los pasos sean más pequeños y nunca sobrepase la barrera.\n",
    "    \n",
    "    tiempos = arange(x[0],x[1]+h,h)\n",
    "    sol = zeros((len(tiempos),len(p_ini)))\n",
    "    sol[0,:] = p_ini\n",
    "    \n",
    "    if args==0:\n",
    "        for i in xrange(len(tiempos)-1): \n",
    "            k1 = ec(sol[i,:],tiempos[i])\n",
    "            k2 = ec(sol[i,:]+0.5*h*k1,tiempos[i]+0.5*h) \n",
    "            k3 = ec(sol[i,:]+0.5*h*k2,tiempos[i]+0.5*h) \n",
    "            k4 = ec(sol[i,:]+h*k3,tiempos[i]+h) \n",
    "            sol[i+1,:]=sol[i,:]+(h/6.)*(k1+2*k2+2*k3+k4) \n",
    "            \n",
    "    else:\n",
    "        for i in xrange(len(tiempos)-1): \n",
    "            k1 = ec(sol[i,:],tiempos[i],args)\n",
    "            k2 = ec(sol[i,:]+0.5*h*k1,tiempos[i]+0.5*h,args) \n",
    "            k3 = ec(sol[i,:]+0.5*h*k2,tiempos[i]+0.5*h,args) \n",
    "            k4 = ec(sol[i,:]+h*k3,tiempos[i]+h,args) \n",
    "            sol[i+1,:]=sol[i,:]+(h/6.)*(k1+2*k2+2*k3+k4) \n",
    "            \n",
    "    return tiempos,sol"
   ]
  },
  {
   "cell_type": "markdown",
   "metadata": {},
   "source": [
    "Las ecuaciones para una pelota que rebote en una caja con las características anteriores son:\n",
    "\n",
    "$$\n",
    "\n",
    "$$"
   ]
  },
  {
   "cell_type": "code",
   "execution_count": 44,
   "metadata": {
    "collapsed": true
   },
   "outputs": [],
   "source": [
    "#ángulos de la caja con el piso\n",
    "alpha1,alpha2=pi/6,pi/10"
   ]
  },
  {
   "cell_type": "code",
   "execution_count": 45,
   "metadata": {
    "collapsed": false
   },
   "outputs": [],
   "source": [
    "#Condiciones iniciales\n",
    "angulo=alpha1\n",
    "x,y=5./3,tan(angulo)*(5-(5./3))\n",
    "a=random.randint(0, 2*pi)\n",
    "x_v,y_v=cos(angulo),sin(angulo)"
   ]
  },
  {
   "cell_type": "code",
   "execution_count": 114,
   "metadata": {
    "collapsed": false
   },
   "outputs": [
    {
     "data": {
      "image/png": "[encoded data removed]",
      "text/plain": [
       "<matplotlib.figure.Figure at 0x1e28d710>"
      ]
     },
     "metadata": {},
     "output_type": "display_data"
    }
   ],
   "source": [
    "#para dibujar la caja\n",
    "ptos=arange(0,10,0.01)\n",
    "def techo(z):\n",
    "    return (tan(angulo)*5+3)\n",
    "def piso(z):\n",
    "    if 0<= z <=5:\n",
    "        return (-tan(angulo)*z)+(tan(angulo)*5)\n",
    "    else:\n",
    "        return (tan(angulo)*z)-(tan(angulo)*5)\n",
    "for n in ptos:\n",
    "    plot(n,piso(n),'.')\n",
    "    plot(n,techo(n),'.')\n",
    "show()"
   ]
  },
  {
   "cell_type": "code",
   "execution_count": 108,
   "metadata": {
    "collapsed": false
   },
   "outputs": [
    {
     "ename": "TypeError",
     "evalue": "unsupported operand type(s) for +: 'Line2D' and 'float'",
     "output_type": "error",
     "traceback": [
      "\u001b[0;31m---------------------------------------------------------------------------\u001b[0m",
      "\u001b[0;31mTypeError\u001b[0m                                 Traceback (most recent call last)",
      "\u001b[0;32m<ipython-input-108-b599a4bf93a1>\u001b[0m in \u001b[0;36m<module>\u001b[0;34m()\u001b[0m\n\u001b[1;32m      1\u001b[0m \u001b[0mn\u001b[0m\u001b[0;34m=\u001b[0m\u001b[0mlinspace\u001b[0m\u001b[0;34m(\u001b[0m\u001b[0;36m0\u001b[0m\u001b[0;34m,\u001b[0m\u001b[0;36m5\u001b[0m\u001b[0;34m)\u001b[0m\u001b[0;34m\u001b[0m\u001b[0m\n\u001b[1;32m      2\u001b[0m \u001b[0mplot\u001b[0m\u001b[0;34m(\u001b[0m\u001b[0mn\u001b[0m\u001b[0;34m,\u001b[0m\u001b[0mtan\u001b[0m\u001b[0;34m(\u001b[0m\u001b[0mn\u001b[0m\u001b[0;34m*\u001b[0m\u001b[0;36m0\u001b[0m\u001b[0;34m+\u001b[0m\u001b[0mangulo\u001b[0m\u001b[0;34m)\u001b[0m\u001b[0;34m*\u001b[0m\u001b[0;36m5\u001b[0m\u001b[0;34m+\u001b[0m\u001b[0;36m3\u001b[0m\u001b[0;34m)\u001b[0m\u001b[0;34m\u001b[0m\u001b[0m\n\u001b[0;32m----> 3\u001b[0;31m \u001b[0mplot\u001b[0m\u001b[0;34m(\u001b[0m\u001b[0mn\u001b[0m\u001b[0;34m,\u001b[0m\u001b[0;34m-\u001b[0m\u001b[0mtan\u001b[0m\u001b[0;34m(\u001b[0m\u001b[0mangulo\u001b[0m\u001b[0;34m)\u001b[0m\u001b[0;34m*\u001b[0m\u001b[0mn\u001b[0m\u001b[0;34m)\u001b[0m\u001b[0;34m+\u001b[0m\u001b[0;34m(\u001b[0m\u001b[0mtan\u001b[0m\u001b[0;34m(\u001b[0m\u001b[0mangulo\u001b[0m\u001b[0;34m)\u001b[0m\u001b[0;34m*\u001b[0m\u001b[0;36m5\u001b[0m\u001b[0;34m)\u001b[0m\u001b[0;34m\u001b[0m\u001b[0m\n\u001b[0m\u001b[1;32m      4\u001b[0m \u001b[0mm\u001b[0m\u001b[0;34m=\u001b[0m\u001b[0mlinspace\u001b[0m\u001b[0;34m(\u001b[0m\u001b[0;36m5\u001b[0m\u001b[0;34m,\u001b[0m\u001b[0;36m10\u001b[0m\u001b[0;34m)\u001b[0m\u001b[0;34m\u001b[0m\u001b[0m\n\u001b[1;32m      5\u001b[0m \u001b[0mplot\u001b[0m\u001b[0;34m(\u001b[0m\u001b[0mm\u001b[0m\u001b[0;34m,\u001b[0m\u001b[0mtan\u001b[0m\u001b[0;34m(\u001b[0m\u001b[0mm\u001b[0m\u001b[0;34m*\u001b[0m\u001b[0;36m0\u001b[0m\u001b[0;34m+\u001b[0m\u001b[0mangulo\u001b[0m\u001b[0;34m)\u001b[0m\u001b[0;34m*\u001b[0m\u001b[0;36m5\u001b[0m\u001b[0;34m+\u001b[0m\u001b[0;36m3\u001b[0m\u001b[0;34m)\u001b[0m\u001b[0;34m\u001b[0m\u001b[0m\n",
      "\u001b[0;31mTypeError\u001b[0m: unsupported operand type(s) for +: 'Line2D' and 'float'"
     ]
    },
    {
     "data": {
      "image/png": "[encoded data removed]",
      "text/plain": [
       "<matplotlib.figure.Figure at 0x9a9ecb0>"
      ]
     },
     "metadata": {},
     "output_type": "display_data"
    }
   ],
   "source": [
    "n=linspace(0,5)\n",
    "plot(n,tan(n*0+angulo)*5+3)\n",
    "plot(n,-tan(angulo)*n)+(tan(angulo)*5)\n",
    "m=linspace(5,10)\n",
    "plot(m,tan(m*0+angulo)*5+3)\n",
    "plot(m,-tan(angulo)*m)+(tan(angulo)*5)"
   ]
  },
  {
   "cell_type": "code",
   "execution_count": 94,
   "metadata": {
    "collapsed": false
   },
   "outputs": [
    {
     "ename": "SyntaxError",
     "evalue": "invalid syntax (<ipython-input-94-df7406294d8d>, line 7)",
     "output_type": "error",
     "traceback": [
      "\u001b[0;36m  File \u001b[0;32m\"<ipython-input-94-df7406294d8d>\"\u001b[0;36m, line \u001b[0;32m7\u001b[0m\n\u001b[0;31m    #plot(m,tan(angulo)*z)-(tan(angulo)*5)\u001b[0m\n\u001b[0m                                          ^\u001b[0m\n\u001b[0;31mSyntaxError\u001b[0m\u001b[0;31m:\u001b[0m invalid syntax\n"
     ]
    }
   ],
   "source": [
    "n=arange(0,5,0.01)\n",
    "plot(n,tan(n))(#angulo)*5+3)\n",
    "#plot(n,-tan(angulo)*n)+(tan(angulo)*5)\n",
    "show()\n",
    "#m=arange(5,10,0.01)\n",
    "#plot(m,tan(angulo)*5+3)\n",
    "#plot(m,tan(angulo)*z)-(tan(angulo)*5)"
   ]
  },
  {
   "cell_type": "markdown",
   "metadata": {},
   "source": [
    "### b) Introduzca algún modelo de fricción y compare las trayectorias con el inciso anterior."
   ]
  },
  {
   "cell_type": "markdown",
   "metadata": {},
   "source": [
    "### c) Dibuje el espacio fase px , x y py , y cuando no hay fricción y la partícula es lanzada hacia la derecha a un ángulo $\\alpha$ y vertical hacia arriba. Tome en cuenta el número necesario de rebotes para que la simulación pueda barrer el espacio fase de manera representativa."
   ]
  }
 ],
 "metadata": {
  "kernelspec": {
   "display_name": "Python 2",
   "language": "python",
   "name": "python2"
  },
  "language_info": {
   "codemirror_mode": {
    "name": "ipython",
    "version": 2
   },
   "file_extension": ".py",
   "mimetype": "text/x-python",
   "name": "python",
   "nbconvert_exporter": "python",
   "pygments_lexer": "ipython2",
   "version": "2.7.6"
  }
 },
 "nbformat": 4,
 "nbformat_minor": 0
}
