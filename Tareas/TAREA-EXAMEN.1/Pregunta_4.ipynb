{
 "cells": [
  {
   "cell_type": "markdown",
   "metadata": {},
   "source": [
    "# Pregunta 4"
   ]
  },
  {
   "cell_type": "markdown",
   "metadata": {},
   "source": [
    "#### Se tiene una partícula de masa m = 1 en una caja circular. Los radios de a y b son tales que b = 2a."
   ]
  },
  {
   "cell_type": "markdown",
   "metadata": {},
   "source": [
    "#### a) Realice una simulación en donde la partícula realiza varios rebotes en las paredes de la caja.  Suponga condiciones iniciales arbitrarias que le permitan hacer lo anterior."
   ]
  },
  {
   "cell_type": "code",
   "execution_count": 3,
   "metadata": {
    "collapsed": true
   },
   "outputs": [],
   "source": [
    "from pylab import*\n",
    "from numpy import*\n",
    "%matplotlib inline"
   ]
  },
  {
   "cell_type": "code",
   "execution_count": 2,
   "metadata": {
    "collapsed": true
   },
   "outputs": [],
   "source": [
    "def rk4(ec,p_ini,x,args=0,h=0.01):\n",
    "    #el parámetro args está evaluándose en la segunda coordenada de la ecuación diferencial\n",
    "    #éste escalar será la fricción que estamos añadiendo a la función.\n",
    "    \n",
    "    if (x[1]-x[0]) <= 5.*h:\n",
    "        h = (x[1]-x[0])/10.\n",
    "    #codigo adicional para hacer que cuando se acerque al punto \n",
    "    #de rebote los pasos sean más pequeños y nunca sobrepase la barrera.\n",
    "    \n",
    "    tiempos = arange(x[0],x[1]+h,h)\n",
    "    sol = zeros((len(tiempos),len(p_ini)))\n",
    "    sol[0,:] = p_ini\n",
    "    \n",
    "    if args==0:\n",
    "        for i in xrange(len(tiempos)-1): \n",
    "            k1 = ec(sol[i,:],tiempos[i])\n",
    "            k2 = ec(sol[i,:]+0.5*h*k1,tiempos[i]+0.5*h) \n",
    "            k3 = ec(sol[i,:]+0.5*h*k2,tiempos[i]+0.5*h) \n",
    "            k4 = ec(sol[i,:]+h*k3,tiempos[i]+h) \n",
    "            sol[i+1,:]=sol[i,:]+(h/6.)*(k1+2*k2+2*k3+k4) \n",
    "            \n",
    "    else:\n",
    "        for i in xrange(len(tiempos)-1): \n",
    "            k1 = ec(sol[i,:],tiempos[i],args)\n",
    "            k2 = ec(sol[i,:]+0.5*h*k1,tiempos[i]+0.5*h,args) \n",
    "            k3 = ec(sol[i,:]+0.5*h*k2,tiempos[i]+0.5*h,args) \n",
    "            k4 = ec(sol[i,:]+h*k3,tiempos[i]+h,args) \n",
    "            sol[i+1,:]=sol[i,:]+(h/6.)*(k1+2*k2+2*k3+k4) \n",
    "            \n",
    "    return tiempos,sol"
   ]
  },
  {
   "cell_type": "markdown",
   "metadata": {},
   "source": [
    "Las ecuaciones que describen a la partícula rebotando son las mismas que en el problema 3, entonces, las vamos a usar nuevamente:"
   ]
  },
  {
   "cell_type": "code",
   "execution_count": 4,
   "metadata": {
    "collapsed": true
   },
   "outputs": [],
   "source": [
    "#x[0]=posición_x, x[1]=posición_y, x[2]=vel_x, x[3]=vel_y\n",
    "\n",
    "def ec_mov(x,t,g=9.8,m=1):\n",
    "    dx= x[2]\n",
    "    dy= x[3]\n",
    "    ddy= -g/m\n",
    "    ddx= 0\n",
    "    return array([dx,dy,ddx,ddy])"
   ]
  },
  {
   "cell_type": "markdown",
   "metadata": {},
   "source": [
    "Notemos que cuando una pelota rebota lo que ocurre es que la dirección de su velocidad se refleja con respecto a la normal de la superficie, entonces, en una caja circular, tendremos que:\n",
    "\n",
    "$$\n",
    "\\text{Si } \\ \\ \\ \\vert \\ \\vec{r} \\vert > b  \\ \\ \\ \\ \\ \\ \\ \\ \\ \\ \\ \\Rightarrow \\ \\ \\ \\ \\ \\ \\ \\ \\ \\ \\ \\vec{v}= -\\dot{r}\\hat{r} + \\dot{\\theta} \\hat{\\theta}\n",
    "$$\n",
    "\n",
    "$$\n",
    "\\text{Si } \\ \\ \\ \\vert \\ \\vec{r} \\vert < a \\ \\ \\ \\ \\ \\ \\ \\ \\ \\ \\ \\ \\Rightarrow \\ \\ \\ \\ \\ \\ \\ \\ \\ \\ \\ \\vec{v}= \\dot{r}\\hat{r} + \\dot{\\theta} \\hat{\\theta}\n",
    "$$"
   ]
  },
  {
   "cell_type": "code",
   "execution_count": 61,
   "metadata": {
    "collapsed": false
   },
   "outputs": [
    {
     "data": {
      "image/png": "[encoded data removed]",
      "text/plain": [
       "<matplotlib.figure.Figure at 0x34956f0>"
      ]
     },
     "metadata": {},
     "output_type": "display_data"
    }
   ],
   "source": [
    "fig = figure(figsize=(7,7))\n",
    "ylim([-4,4])\n",
    "xlim([-4,4])\n",
    "gca().set_aspect('equal', adjustable='box')\n",
    "circle1=Circle((0,0),1,color='b', fill=False)\n",
    "circle2=Circle((0,0),2,color='b', fill=False)\n",
    "gcf().gca().add_artist(circle1)\n",
    "gcf().gca().add_artist(circle2)\n",
    "show()"
   ]
  },
  {
   "cell_type": "markdown",
   "metadata": {},
   "source": [
    "#### (b) Existen condiciones iniciales que hagan que la partícula quede encasillada en sólo un sector dela caja?. De ser así muestre cuáles son tales condiciones o demuestre porque no se pueden obtener dicha situación."
   ]
  },
  {
   "cell_type": "markdown",
   "metadata": {},
   "source": [
    "#### (c) Si ahora se tiene un campo gravitacional uniforme $\\vec{g} = 10 \\hat{n}$. Que condiciones iniciales se tendrán que cumplir para que la partícula sólo pueda ocupar la mitad de la dona."
   ]
  }
 ],
 "metadata": {
  "kernelspec": {
   "display_name": "Python 2",
   "language": "python",
   "name": "python2"
  },
  "language_info": {
   "codemirror_mode": {
    "name": "ipython",
    "version": 2
   },
   "file_extension": ".py",
   "mimetype": "text/x-python",
   "name": "python",
   "nbconvert_exporter": "python",
   "pygments_lexer": "ipython2",
   "version": "2.7.6"
  }
 },
 "nbformat": 4,
 "nbformat_minor": 0
}
