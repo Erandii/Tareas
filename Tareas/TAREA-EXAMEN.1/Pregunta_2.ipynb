{
 "cells": [
  {
   "cell_type": "markdown",
   "metadata": {},
   "source": [
    "# Pregunta 2"
   ]
  },
  {
   "cell_type": "markdown",
   "metadata": {},
   "source": [
    "#### Suponga que se tiene el sistema como en el problema anterior, pero ahora la partícula tiene carga q > 0 y en el origen también se encuentra una partícula de carga q > 0."
   ]
  },
  {
   "cell_type": "markdown",
   "metadata": {},
   "source": [
    "#### (a) Sin considerar la fricción, ¿El sistema puede tener órbitas cerradas?. De ser así, encuentre algunas de estas órbitas o muestre que el sistema no puede tener este tipo de órbitas. (Apoye sus argumentos con alguna simulación)."
   ]
  },
  {
   "cell_type": "markdown",
   "metadata": {},
   "source": [
    "Tenemos que la energia potencial de las cargas va como:\n",
    "\n",
    "$$\n",
    "U_1=\\frac{1}{4\\pi\\epsilon_0} \\frac{q^2}{r}\n",
    "$$\n",
    "\n",
    "Mientras que el potencial de un resorte es: \n",
    "\n",
    "$$\n",
    "U_2=(kr^2)/2\n",
    "$$\n",
    "\n",
    "Entonces la energía potencial del sistema de cargas oscilando es la suma de $U_1$ y $U_2$."
   ]
  },
  {
   "cell_type": "code",
   "execution_count": 2,
   "metadata": {
    "collapsed": true
   },
   "outputs": [],
   "source": [
    "from pylab import*\n",
    "%matplotlib inline"
   ]
  },
  {
   "cell_type": "code",
   "execution_count": 1,
   "metadata": {
    "collapsed": true
   },
   "outputs": [],
   "source": [
    "#Considerando que (4*pi*epsilon)=1=k, tenemos que:\n",
    "\n",
    "def energia_potencial(r):\n",
    "    u_1 = (1./r)\n",
    "    u_2 = 0.5*(r**2)\n",
    "    return u_1+u_2"
   ]
  },
  {
   "cell_type": "code",
   "execution_count": 3,
   "metadata": {
    "collapsed": false
   },
   "outputs": [
    {
     "data": {
      "image/png": "[encoded data removed]",
      "text/plain": [
       "<matplotlib.figure.Figure at 0x935c510>"
      ]
     },
     "metadata": {},
     "output_type": "display_data"
    }
   ],
   "source": [
    "r = linspace(0.01,7)\n",
    "plot(r,energia_potencial(r))\n",
    "ylim([0,15])\n",
    "show()"
   ]
  },
  {
   "cell_type": "markdown",
   "metadata": {},
   "source": [
    " La gráfica de la energía potencial total contra la distancia entre las cargas $r$ tiene un mínimo en $r_0 = 1$ pues:\n",
    "\n",
    "$$\n",
    "\\frac{d}{dr} \\Bigl ( \\frac{1}{r} + \\frac{r^2}{2} \\Bigr ) = r - \\frac{1}{r^2}\n",
    "$$\n",
    "\n",
    "$$\n",
    "r - \\frac{1}{r^2} = 0 \\ \\ \\ \\  \\Leftrightarrow \\ \\ \\ \\ r^3 - 1 = 0 \\ \\ \\ \\  \\Leftrightarrow \\ \\ \\ \\ r = 1\n",
    "$$\n",
    "\n",
    "Lo cual implica que van a existir órbitas estables cuando las cargas estén a distancia $r_0$."
   ]
  },
  {
   "cell_type": "markdown",
   "metadata": {},
   "source": [
    "Para hacer la simulación que muestre la existencia de dichas órbitas, vamos a escribir las ecuaciones de movimiento:"
   ]
  },
  {
   "cell_type": "markdown",
   "metadata": {},
   "source": [
    "Dado que no existe fricción, el movimiento de una de las partículas cargadas (suponiendo que la otra está fija en el origen) está dado por:\n",
    "\n",
    "$$\n",
    "m\\ddot{\\vec{r}}+\\frac{1}{4\\pi\\epsilon_0}\\frac{q_1q_2}{\\vert \\vec{r}^2 \\vert}\\dot{\\vec{r}} +k\\vec{r} = 0  \\ \\ \\ \\ \\ \\ \\dots (1)\n",
    "$$\n",
    "\n",
    "Donde $k$ es la constante del oscilador, $\\epsilon_0$ es la permitividad eléctrica y  $\\vec{r}$ es la distancia entre las cargas.\n",
    "\n",
    "Separándola en coordenadas obtenemos:\n",
    "\n",
    "$$\n",
    "m\\ddot{x}+\\frac{1}{4\\pi\\epsilon_0}\\frac{q_1q_2}{r^2} \\dot{x} + k x = 0 \\ \\ \\ \\ \\ \\ \\ \\ \\ \\ \\dots (2)\n",
    "\\\\\n",
    "m\\ddot{y}+\\frac{1}{4\\pi\\epsilon_0}\\frac{q_1q_2}{r^2} \\dot{y} + k y = 0 \\ \\ \\ \\ \\ \\ \\ \\ \\ \\ \\dots (3)\n",
    "$$\n"
   ]
  },
  {
   "cell_type": "code",
   "execution_count": 44,
   "metadata": {
    "collapsed": false
   },
   "outputs": [],
   "source": [
    "#x[0]=posición_x, x[1]=posición_y, x[2]=velocidad_x, x[3]=velocidad_y\n",
    "#z[0]=gamma, z[1]=mu, z[2]=k, z[3]=m, z[4]=4*pi*epsilon, z[5]=q_1, z[6]=q_2\n",
    "\n",
    "def ec_mov(x,t,z,fr='no'):\n",
    "\n",
    "    mod = (x[0]**2+x[1]**2)\n",
    "    if fr == 'no':\n",
    "        dot_x=x[2]\n",
    "        ddot_x=-((z[5]*z[6]*x[2])/(z[3]*mod*z[4]))-(z[2]/z[3])*x[0]\n",
    "    \n",
    "        dot_y=x[3]\n",
    "        ddot_y=-((z[5]*z[6]*x[3])/(z[3]*mod*z[4]))-(z[2]/z[3])*x[1]        \n",
    "        \n",
    "    else:\n",
    "        dot_x=x[2]\n",
    "        fr_x=fric(([x[2],x[3]]),z[0],z[1])[0]\n",
    "        ddot_x=fr_x/2-((z[5]*z[6]*x[2])/(z[3]*mod*z[4]))-(z[2]/z[3])*x[0]\n",
    "    \n",
    "        dot_y=x[3]\n",
    "        fr_y=fric(([x[2],x[3]]),z[0],z[1])[1]\n",
    "        ddot_y=fr_y/2-((z[5]*z[6]*x[3])/(z[3]*mod*z[4]))-(z[2]/z[3])*x[1]\n",
    "    \n",
    "    return array([dot_x,dot_y,ddot_x,ddot_y])"
   ]
  },
  {
   "cell_type": "markdown",
   "metadata": {},
   "source": [
    "Para mostrar las órbitas circulares:"
   ]
  },
  {
   "cell_type": "code",
   "execution_count": 45,
   "metadata": {
    "collapsed": true
   },
   "outputs": [],
   "source": [
    "def rk4(ec,p_ini,x,args=0,h=0.01):\n",
    "    if (x[1]-x[0]) <= 5.*h:\n",
    "        h = (x[1]-x[0])/10\n",
    "    tiempos = arange(x[0],x[1]+h,h)\n",
    "    sol = zeros((len(tiempos),len(p_ini)))\n",
    "    sol[0,:] = p_ini\n",
    "    if args==0:\n",
    "        for i in xrange(len(tiempos)-1):\n",
    "            k1 = ec(sol[i,:],tiempos[i])\n",
    "            k2 = ec(sol[i,:]+0.5*h*k1,tiempos[i]+0.5*h)\n",
    "            k3 = ec(sol[i,:]+0.5*h*k2,tiempos[i]+0.5*h)\n",
    "            k4 = ec(sol[i,:]+h*k3,tiempos[i]+h)\n",
    "            sol[i+1,:]=sol[i,:]+(h/6.)*(k1+2*k2+2*k3+k4)\n",
    "    else:\n",
    "        for i in xrange(len(tiempos)-1):\n",
    "            k1 = ec(sol[i,:],tiempos[i],args)\n",
    "            k2 = ec(sol[i,:]+0.5*h*k1,tiempos[i]+0.5*h,args)\n",
    "            k3 = ec(sol[i,:]+0.5*h*k2,tiempos[i]+0.5*h,args)\n",
    "            k4 = ec(sol[i,:]+h*k3,tiempos[i]+h,args)\n",
    "            sol[i+1,:]=sol[i,:]+(h/6.)*(k1+2*k2+2*k3+k4)\n",
    "    return tiempos,sol"
   ]
  },
  {
   "cell_type": "code",
   "execution_count": 61,
   "metadata": {
    "collapsed": true
   },
   "outputs": [],
   "source": [
    "t,sol=rk4(ec_mov,[0,1,0.1,0],[0,500],[0.1,0.2,0.3,1,1,1,1])"
   ]
  },
  {
   "cell_type": "code",
   "execution_count": 62,
   "metadata": {
    "collapsed": false
   },
   "outputs": [
    {
     "data": {
      "image/png": "[encoded data removed]",
      "text/plain": [
       "<matplotlib.figure.Figure at 0xb13f0b0>"
      ]
     },
     "metadata": {},
     "output_type": "display_data"
    }
   ],
   "source": [
    "plot(sol[:,0],sol[:,1])\n",
    "show()"
   ]
  },
  {
   "cell_type": "code",
   "execution_count": null,
   "metadata": {
    "collapsed": true
   },
   "outputs": [],
   "source": [
    "El momento angular?? F_ef = l^2/(2mr^2) "
   ]
  },
  {
   "cell_type": "markdown",
   "metadata": {},
   "source": [
    "### (b) Considerando la fricción, ¿El sistema puede tener órbitas cerradas?. De ser así, encuentre algunas de estas órbitas o muestre que el sistema no puede tener este tipo de órbitas. (Apoye sus argumentos con alguna simulación)."
   ]
  },
  {
   "cell_type": "markdown",
   "metadata": {},
   "source": [
    "Utilizando las mismas fórmulas para la fricción se tiene que:"
   ]
  },
  {
   "cell_type": "code",
   "execution_count": null,
   "metadata": {
    "collapsed": true
   },
   "outputs": [],
   "source": [
    "#v[0]=vel_x, v[1]=vel_y\n",
    "def fric(v,gamma,mu):\n",
    "    norma=(v[0]**2+v[1]**2)**0.5\n",
    "    if norma < 1:\n",
    "        fric_x=-gamma*norma*v[0]\n",
    "        fric_y=-gamma*norma*v[1]\n",
    "        return array([fric_x,fric_y])\n",
    "    else:\n",
    "        fric_x=-mu*(norma**(1.5))*v[0]\n",
    "        fric_y=-mu*(norma**(1.5))*v[1]\n",
    "        return array([fric_x,fric_y])"
   ]
  }
 ],
 "metadata": {
  "kernelspec": {
   "display_name": "Python 2",
   "language": "python",
   "name": "python2"
  },
  "language_info": {
   "codemirror_mode": {
    "name": "ipython",
    "version": 2
   },
   "file_extension": ".py",
   "mimetype": "text/x-python",
   "name": "python",
   "nbconvert_exporter": "python",
   "pygments_lexer": "ipython2",
   "version": "2.7.6"
  }
 },
 "nbformat": 4,
 "nbformat_minor": 0
}
